{
 "cells": [
  {
   "cell_type": "markdown",
   "id": "194c7d92-3918-4b31-921e-ccd2f182ba6c",
   "metadata": {},
   "source": [
    "Problem #1:\n",
    "Since the solution required that player should be able to keep guessing until it is correct, i wrote it as a function. This way I was able to call the same function within itself under the if conditions where the guess is incorrect. I also took the liberty to add a replay functionality."
   ]
  },
  {
   "cell_type": "code",
   "execution_count": null,
   "id": "ed282fb0-1257-4bfa-a273-06e00b923348",
   "metadata": {},
   "outputs": [],
   "source": [
    "import random\n",
    "\n",
    "def is_guess_correct(correct_guess, player_guess):\n",
    "    \"\"\"Checks if the latest guess match with the correct number until the player finds the correct value\"\"\"\n",
    "\n",
    "    if correct_guess == player_guess:\n",
    "        print(\"Well done! The number was indeed \" + str(correct_guess) + \".\")\n",
    "        print(\"Would you like to play again? If yes, type 'Yes' \")\n",
    "        \n",
    "        replay = str(input())\n",
    "        if replay == \"Yes\":\n",
    "            guess_list = range(20)\n",
    "            correct_guess = random.choice(guess_list)\n",
    "            print(\"I have a new number, what is your guess?\")\n",
    "            player_guess = int(input())\n",
    "            is_guess_correct(correct_guess, player_guess)   \n",
    "        else:\n",
    "            print(\"Well, goodbye then...\")\n",
    "    elif correct_guess > player_guess:\n",
    "        print(\"The number is higher than you think, try again!\")\n",
    "        player_guess = int(input())\n",
    "        is_guess_correct(correct_guess, player_guess)\n",
    "        \n",
    "    else:\n",
    "        print(\"The number is lower than you think, try again!\")\n",
    "        player_guess = int(input())\n",
    "        is_guess_correct(correct_guess, player_guess)\n",
    "\n",
    "guess_list = range(20)\n",
    "correct_value = random.choice(guess_list)\n",
    "\n",
    "print(\"Would you like to play a game? I chose a number from 1 to 20, make a guess!\" + str(correct_value))\n",
    "my_guess = int(input())\n",
    "is_guess_correct(correct_value, my_guess)\n",
    "\n",
    "\n"
   ]
  },
  {
   "cell_type": "markdown",
   "id": "0797b781-abb7-46fb-98f8-d4402e3f54d9",
   "metadata": {},
   "source": [
    "Problem #2:\n",
    "The instructions could be understood in a few different ways, but the way I found the most sensible is that:\n",
    "1- There is an array of ordered but non-consequtive integers.\n",
    "2- We want to search for a specific integer in this array, which may or may not be an element in this array.\n",
    "3a- If the target integer exists within this array, we want its index; \n",
    "3b- Else if the target is not in the array, we want to find the index in this what-if situtation where the target was in the array and **ordered** among the rest of the items.\n",
    "\n",
    "So if target is not found, I took the next largest item instead of appending the target to the array and returning that index."
   ]
  },
  {
   "cell_type": "code",
   "execution_count": null,
   "id": "243e02f4-88c5-4551-a888-f570efb5e083",
   "metadata": {},
   "outputs": [],
   "source": [
    "my_array = [3, 4, 7, 9, 13, 19, 21]\n",
    "print(\"What is it that you seek? (only integers plss)\")\n",
    "target_value = int(input())\n",
    "\n",
    "for i in my_array:\n",
    "    if i == target_value:\n",
    "        target_index = my_array.index(i)\n",
    "        print(\"What you seek is in index no.: \" + str(target_index))\n",
    "        break\n",
    "    elif i >= target_value:\n",
    "        target_index = my_array.index(i)\n",
    "        print(\"What you seek does not exist, but if it did in the natural order of things, the index no. would be: \" + str(target_index))\n",
    "        break\n",
    "    else:\n",
    "        pass"
   ]
  },
  {
   "cell_type": "markdown",
   "id": "fb90491e-eebb-412b-8852-63ee1f07b4ff",
   "metadata": {},
   "source": [
    "Problem #3: (This was the most fun among the 5, thus the long comment.)\n",
    "I figured converting binary and decimal numbers back and forth would be more practical instead of writing  a function that handles binary carry operations.\n",
    "\n",
    "First function uses the lenght of the string and index of the given bit to calculate its power of two. This way any lenght of binary numbers can be converted (e.g. no need to put a bunch of zeros before \"101\" if we want to sum 5 and 238.)\n",
    "\n",
    "Second function converts decimals into binaries. My first thought was to divide the number by the largest power of 2 possible (for 58 it would be 2^5), and keep dividing the remainders after that. However the problem is that I needed to keep what powers of two were used and what weren't. I could write something that does that, but I couldn't find a way to keep track of each power of 2 without imposing arbitrary maximum limitations (e.g. the code supports up to 2^8 and once the maximum power of 2 that divides a number is 2^9 the code breaks). I could make a cute 8-bit calculator like that, but I prefer the code being flexible and devoid of hard-coded limitaitons a much as possible. While looking at forums I found this method of converting decimals to binaries:\n",
    "\n",
    "    To convert a decimal number to binary, you need to follow these steps:\n",
    "    \n",
    "    1. Divide the decimal number by 2 and write down the integer result (ignore the remainder).\n",
    "    2. Repeat step 1 with the integer result until you get 0.\n",
    "    3. Write down the remainders (in reverse order) of each division as 0 or 1 to get the binary equivalent.\n",
    "    \n",
    "    For example, let's convert the decimal number 23 to binary:\n",
    "    \n",
    "    1. 23 ÷ 2 = 11, remainder 1\n",
    "    2. 11 ÷ 2 = 5, remainder 1\n",
    "    3. 5 ÷ 2 = 2, remainder 1\n",
    "    4. 2 ÷ 2 = 1, remainder 0\n",
    "    5. 1 ÷ 2 = 0, remainder 1\n",
    "    \n",
    "    The binary equivalent of 23 is therefore 10111. \n",
    "\n",
    "This method is on a comment in this link: https://www.khanacademy.org/computing/computers-and-internet/xcae6f4a7ff015e7d:digital-information/xcae6f4a7ff015e7d:binary-numbers/v/converting-decimal-numbers-to-binary\n",
    "\n",
    "I tried to this with 10s and it worked, so it made sense to me(128/10 = 12 remains 8, 12/10=1 remains 2, 1/10 remains 1; 128 in reverse). So this function divides the number by 2 as long it can (as long as the remainder is not 0), writes each iteraiton on a list, reverses the list, and turns it into a string."
   ]
  },
  {
   "cell_type": "code",
   "execution_count": 47,
   "id": "110b9954-c824-43e5-bca8-02aea9848f4e",
   "metadata": {},
   "outputs": [
    {
     "name": "stdout",
     "output_type": "stream",
     "text": [
      "10010\n"
     ]
    }
   ],
   "source": [
    "input_a = \"1011\"\n",
    "input_b = \"111\"\n",
    "\n",
    "def binary_to_decimal (binary_input):\n",
    "    \"\"\"Converts type string binary numbers into decimal numbers\"\"\"\n",
    "    \n",
    "    output_number = 0\n",
    "    for i, char in enumerate(binary_input):\n",
    "        power_of_two = int(len(binary_input)) - (i + 1)\n",
    "        if char == \"1\":\n",
    "            output_number += 2**power_of_two\n",
    "        else:\n",
    "            pass\n",
    "    return output_number\n",
    "\n",
    "def decimal_to_binary (decimal_input):\n",
    "    \"\"\"Converts decimal numbers into type string binary numbers\"\"\"\n",
    "\n",
    "    output_number = []\n",
    "    if decimal_input == 0:\n",
    "        return \"0\"\n",
    "    else:\n",
    "        while decimal_input != 0:\n",
    "            digit = decimal_input%2\n",
    "            output_number.append(str(digit))\n",
    "            decimal_input = int(decimal_input/2)\n",
    "        output_number.reverse()\n",
    "        output_number_str = \"\".join(output_number)\n",
    "        return output_number_str\n",
    "\n",
    "decimal_sum = binary_to_decimal(input_a) + binary_to_decimal(input_b)\n",
    "binary_sum = decimal_to_binary(decimal_sum)\n",
    "\n",
    "print(str(binary_sum))\n",
    "\n",
    "        "
   ]
  },
  {
   "cell_type": "markdown",
   "id": "3098bf27-7326-482e-b1dd-0b91e75cce45",
   "metadata": {},
   "source": [
    "Problem #4:\n",
    "Here I run an iteraiton within an iteraiton. To find the unique item, I delete that item from the copy of its array and check if that item still exists in the copy array. This was a fun one too."
   ]
  },
  {
   "cell_type": "code",
   "execution_count": 36,
   "id": "79e22c3b-a5ca-4f5e-82d1-b2ce949fe981",
   "metadata": {},
   "outputs": [
    {
     "name": "stdout",
     "output_type": "stream",
     "text": [
      "Here is the non-duplicate number: 3\n"
     ]
    }
   ],
   "source": [
    "my_list = [4,8,6,13,6,9,3,4,9,8,7,13,7]\n",
    "odd_one_out = int()\n",
    "non_duplicate_found = False\n",
    "\n",
    "for i in my_list:\n",
    "    iteration_list = my_list.copy()\n",
    "    iteration_list.remove(i)\n",
    "    iteration_value = i\n",
    "    duplicate_status = bool()\n",
    "    \n",
    "    for elm in iteration_list:\n",
    "        duplicate_status = False\n",
    "        if elm == iteration_value:\n",
    "            duplicate_status = True\n",
    "            break\n",
    "        else:\n",
    "            pass\n",
    "            \n",
    "    if duplicate_status is False:\n",
    "        odd_one_out = i\n",
    "        non_duplicate_found = True\n",
    "        break\n",
    "    else:\n",
    "        pass\n",
    "\n",
    "    \n",
    "if non_duplicate_found is True:\n",
    "    print(\"Here is the non-duplicate number: \" + str(odd_one_out))\n",
    "else:\n",
    "    print(\"It seems that all numbers in this array are duplicates :(\")\n",
    "        "
   ]
  },
  {
   "cell_type": "markdown",
   "id": "729adcfe-9d13-40bd-8106-4b62f56ee1a2",
   "metadata": {},
   "source": [
    "Problem #5:\n",
    "I never wrote a search algorithm before so I wasn't sure of the latter half of this code first, but I knew I had to get all possible 10-letter search strings first. I thought of using these substrings for splitting the string into pieces as a list, and looking at the number of items in that list to figure out if the substring repeats itself, if more than 2 items exists then it repeats. But then I realized there is an inherent count function, so I made use of that while feeling like an idiot :,)"
   ]
  },
  {
   "cell_type": "code",
   "execution_count": 68,
   "id": "46ac6171-4447-45d9-ba06-7d217947e212",
   "metadata": {},
   "outputs": [
    {
     "name": "stdout",
     "output_type": "stream",
     "text": [
      "['AAAAGGGTTT', 'AAAGGGTTTA', 'AAAAACCCCC', 'CCCCCAAAAA', 'AGGGTTTAAA', 'AAGGGTTTAA', 'GGGTTTAAAA']\n"
     ]
    }
   ],
   "source": [
    "input_dna = \"AAAAGGGTTTAAAAACCCCCAAAAACCCCCCAAAAAGGGTTTAAAAGGGTTT\"\n",
    "search_string_set = []\n",
    "duplicate_substrings = []\n",
    "\n",
    "for i, char in enumerate(input_dna):\n",
    "    search_string = input_dna[i:i+10]\n",
    "    if len(search_string) == 10:\n",
    "        search_string_set.append(search_string)\n",
    "    else:\n",
    "        break\n",
    "\n",
    "for elm in search_string_set:\n",
    "    no_of_appearance = input_dna.count(str(elm))\n",
    "    if no_of_appearance > 1:\n",
    "        duplicate_substrings.append(elm)\n",
    "    else:\n",
    "        pass\n",
    "duplicate_substrings= list(set(duplicate_substrings))\n",
    "print(str(duplicate_substrings))"
   ]
  }
 ],
 "metadata": {
  "kernelspec": {
   "display_name": "Python [conda env:base] *",
   "language": "python",
   "name": "conda-base-py"
  },
  "language_info": {
   "codemirror_mode": {
    "name": "ipython",
    "version": 3
   },
   "file_extension": ".py",
   "mimetype": "text/x-python",
   "name": "python",
   "nbconvert_exporter": "python",
   "pygments_lexer": "ipython3",
   "version": "3.13.5"
  }
 },
 "nbformat": 4,
 "nbformat_minor": 5
}
