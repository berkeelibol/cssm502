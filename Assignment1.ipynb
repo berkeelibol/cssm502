{
 "cells": [
  {
   "cell_type": "markdown",
   "id": "194c7d92-3918-4b31-921e-ccd2f182ba6c",
   "metadata": {},
   "source": [
    "Problem #1:\n",
    "This is my solution to the Number Guesser:"
   ]
  },
  {
   "cell_type": "code",
   "execution_count": null,
   "id": "ed282fb0-1257-4bfa-a273-06e00b923348",
   "metadata": {},
   "outputs": [],
   "source": [
    "import random\n",
    "\n",
    "def is_guess_correct(correct_guess, player_guess):\n",
    "    \"\"\"Checks if the latest guess match with the correct number until the player finds the correct value\"\"\"\n",
    "\n",
    "    if correct_guess == player_guess:\n",
    "        print(\"Well done! The number was indeed \" + str(correct_guess) + \".\")\n",
    "        print(\"Would you like to play again? If yes, type 'Yes' \")\n",
    "        \n",
    "        replay = str(input())\n",
    "        if replay == \"Yes\":\n",
    "            guess_list = range(20)\n",
    "            correct_guess = random.choice(guess_list)\n",
    "            print(\"I have a new number, what is your guess?\")\n",
    "            player_guess = int(input())\n",
    "            is_guess_correct(correct_guess, player_guess)   \n",
    "        else:\n",
    "            print(\"Well, goodbye then...\")\n",
    "    elif correct_guess > player_guess:\n",
    "        print(\"The number is higher than you think, try again!\")\n",
    "        player_guess = int(input())\n",
    "        is_guess_correct(correct_guess, player_guess)\n",
    "        \n",
    "    else:\n",
    "        print(\"The number is lower than you think, try again!\")\n",
    "        player_guess = int(input())\n",
    "        is_guess_correct(correct_guess, player_guess)\n",
    "\n",
    "guess_list = range(20)\n",
    "correct_value = random.choice(guess_list)\n",
    "\n",
    "print(\"Would you like to play a game? I chose a number from 1 to 20, make a guess!\" + str(correct_value))\n",
    "my_guess = int(input())\n",
    "is_guess_correct(correct_value, my_guess)\n",
    "\n",
    "\n"
   ]
  },
  {
   "cell_type": "markdown",
   "id": "0797b781-abb7-46fb-98f8-d4402e3f54d9",
   "metadata": {},
   "source": [
    "Problem #2:\n",
    "This"
   ]
  },
  {
   "cell_type": "code",
   "execution_count": null,
   "id": "243e02f4-88c5-4551-a888-f570efb5e083",
   "metadata": {},
   "outputs": [],
   "source": [
    "my_array = [3, 4, 7, 9, 13, 19, 21]\n",
    "print(\"What is it that you seek? (only integers plss)\")\n",
    "target_value = int(input())\n",
    "\n",
    "for i in my_array:\n",
    "    if i == target_value:\n",
    "        target_index = my_array.index(i)\n",
    "        print(\"What you seek is in index no.: \" + str(target_index))\n",
    "        break\n",
    "    elif i >= target_value:\n",
    "        target_index = my_array.index(i)\n",
    "        print(\"What you seek does not exist, but if it did in the natural order of things, the index no. would be: \" + str(target_index))\n",
    "        break\n",
    "    else:\n",
    "        pass"
   ]
  },
  {
   "cell_type": "markdown",
   "id": "fb90491e-eebb-412b-8852-63ee1f07b4ff",
   "metadata": {},
   "source": [
    "Problem #3:"
   ]
  },
  {
   "cell_type": "code",
   "execution_count": 47,
   "id": "110b9954-c824-43e5-bca8-02aea9848f4e",
   "metadata": {},
   "outputs": [
    {
     "name": "stdout",
     "output_type": "stream",
     "text": [
      "10010\n"
     ]
    }
   ],
   "source": [
    "input_a = \"1011\"\n",
    "input_b = \"111\"\n",
    "\n",
    "def binary_to_decimal (binary_input):\n",
    "    \"\"\"Converts type string binary numbers into decimal numbers\"\"\"\n",
    "    \n",
    "    output_number = 0\n",
    "    for i, char in enumerate(binary_input):\n",
    "        power_of_two = int(len(binary_input)) - (i + 1)\n",
    "        if char == \"1\":\n",
    "            output_number += 2**power_of_two\n",
    "        else:\n",
    "            pass\n",
    "    return output_number\n",
    "\n",
    "def decimal_to_binary (decimal_input):\n",
    "    \"\"\"Converts decimal numbers into type string binary numbers\"\"\"\n",
    "\n",
    "    output_number = []\n",
    "    if decimal_input == 0:\n",
    "        return \"0\"\n",
    "    else:\n",
    "        while decimal_input != 0:\n",
    "            digit = decimal_input%2\n",
    "            output_number.append(str(digit))\n",
    "            decimal_input = int(decimal_input/2)\n",
    "        output_number.reverse()\n",
    "        output_number_str = \"\".join(output_number)\n",
    "        return output_number_str\n",
    "\n",
    "decimal_sum = binary_to_decimal(input_a) + binary_to_decimal(input_b)\n",
    "binary_sum = decimal_to_binary(decimal_sum)\n",
    "\n",
    "print(str(binary_sum))\n",
    "\n",
    "        "
   ]
  },
  {
   "cell_type": "markdown",
   "id": "3098bf27-7326-482e-b1dd-0b91e75cce45",
   "metadata": {},
   "source": [
    "Problem #4:"
   ]
  },
  {
   "cell_type": "code",
   "execution_count": 36,
   "id": "79e22c3b-a5ca-4f5e-82d1-b2ce949fe981",
   "metadata": {},
   "outputs": [
    {
     "name": "stdout",
     "output_type": "stream",
     "text": [
      "Here is the non-duplicate number: 3\n"
     ]
    }
   ],
   "source": [
    "my_list = [4,8,6,13,6,9,3,4,9,8,7,13,7]\n",
    "odd_one_out = int()\n",
    "non_duplicate_found = False\n",
    "\n",
    "for i in my_list:\n",
    "    iteration_list = my_list.copy()\n",
    "    iteration_list.remove(i)\n",
    "    iteration_value = i\n",
    "    duplicate_status = bool()\n",
    "    \n",
    "    for elm in iteration_list:\n",
    "        duplicate_status = False\n",
    "        if elm == iteration_value:\n",
    "            duplicate_status = True\n",
    "            break\n",
    "        else:\n",
    "            pass\n",
    "            \n",
    "    if duplicate_status is False:\n",
    "        odd_one_out = i\n",
    "        non_duplicate_found = True\n",
    "        break\n",
    "    else:\n",
    "        pass\n",
    "\n",
    "    \n",
    "if non_duplicate_found is True:\n",
    "    print(\"Here is the non-duplicate number: \" + str(odd_one_out))\n",
    "else:\n",
    "    print(\"It seems that all numbers in this array are duplicates :(\")\n",
    "        "
   ]
  },
  {
   "cell_type": "markdown",
   "id": "729adcfe-9d13-40bd-8106-4b62f56ee1a2",
   "metadata": {},
   "source": [
    "Problem #5:"
   ]
  },
  {
   "cell_type": "code",
   "execution_count": 68,
   "id": "46ac6171-4447-45d9-ba06-7d217947e212",
   "metadata": {},
   "outputs": [
    {
     "name": "stdout",
     "output_type": "stream",
     "text": [
      "['AAAAGGGTTT', 'AAAGGGTTTA', 'AAAAACCCCC', 'CCCCCAAAAA', 'AGGGTTTAAA', 'AAGGGTTTAA', 'GGGTTTAAAA']\n"
     ]
    }
   ],
   "source": [
    "input_dna = \"AAAAGGGTTTAAAAACCCCCAAAAACCCCCCAAAAAGGGTTTAAAAGGGTTT\"\n",
    "search_string_set = []\n",
    "duplicate_substrings = []\n",
    "\n",
    "for i, char in enumerate(input_dna):\n",
    "    search_string = input_dna[i:i+10]\n",
    "    if len(search_string) == 10:\n",
    "        search_string_set.append(search_string)\n",
    "    else:\n",
    "        break\n",
    "\n",
    "for elm in search_string_set:\n",
    "    no_of_appearance = input_dna.count(str(elm))\n",
    "    if no_of_appearance > 1:\n",
    "        duplicate_substrings.append(elm)\n",
    "    else:\n",
    "        pass\n",
    "duplicate_substrings= list(set(duplicate_substrings))\n",
    "print(str(duplicate_substrings))"
   ]
  },
  {
   "cell_type": "code",
   "execution_count": null,
   "id": "48c24d8a-4d12-46f8-94c8-10caf0c63b14",
   "metadata": {},
   "outputs": [],
   "source": []
  }
 ],
 "metadata": {
  "kernelspec": {
   "display_name": "Python [conda env:base] *",
   "language": "python",
   "name": "conda-base-py"
  },
  "language_info": {
   "codemirror_mode": {
    "name": "ipython",
    "version": 3
   },
   "file_extension": ".py",
   "mimetype": "text/x-python",
   "name": "python",
   "nbconvert_exporter": "python",
   "pygments_lexer": "ipython3",
   "version": "3.13.5"
  }
 },
 "nbformat": 4,
 "nbformat_minor": 5
}
